{
 "cells": [
  {
   "cell_type": "markdown",
   "metadata": {},
   "source": [
    "# MyBinder Demo with MNIST\n",
    "\n",
    "Here's a demo showing what mybinder can do. Tensorflow, the jupyter extensions, all of it are installed via the included docker file. \n",
    "\n",
    "Below I build a non-trivial CNN network that trains quite fast and ends up with near [state-of-the-art](http://rodrigob.github.io/are_we_there_yet/build/classification_datasets_results.html#4d4e495354) results"
   ]
  },
  {
   "cell_type": "code",
   "execution_count": 1,
   "metadata": {
    "ExecuteTime": {
     "end_time": "2018-01-25T00:14:53.459391Z",
     "start_time": "2018-01-25T00:14:49.487330Z"
    }
   },
   "outputs": [
    {
     "name": "stdout",
     "output_type": "stream",
     "text": [
      "Populating the interactive namespace from numpy and matplotlib\n"
     ]
    },
    {
     "name": "stderr",
     "output_type": "stream",
     "text": [
      "Using TensorFlow backend.\n"
     ]
    }
   ],
   "source": [
    "%pylab inline\n",
    "import keras\n",
    "from keras import backend as K\n",
    "import tensorflow as tf"
   ]
  },
  {
   "cell_type": "code",
   "execution_count": 2,
   "metadata": {
    "ExecuteTime": {
     "end_time": "2018-01-25T01:58:38.596123Z",
     "start_time": "2018-01-25T01:58:35.182021Z"
    }
   },
   "outputs": [
    {
     "name": "stdout",
     "output_type": "stream",
     "text": [
      "Downloading data from https://s3.amazonaws.com/img-datasets/mnist.npz\n",
      "11493376/11490434 [==============================] - 2s 0us/step\n"
     ]
    }
   ],
   "source": [
    "(x_train, y_train), (x_test, y_test) = keras.datasets.mnist.load_data()\n",
    "x_train = (x_train - np.mean(x_train, axis = (1,2), keepdims=True))/np.std(x_train, axis = (1,2), keepdims=True)\n",
    "x_test = (x_test - np.mean(x_test, axis = (1,2), keepdims=True))/np.std(x_test, axis = (1,2), keepdims=True)\n"
   ]
  },
  {
   "cell_type": "code",
   "execution_count": 3,
   "metadata": {
    "ExecuteTime": {
     "end_time": "2018-01-25T02:12:29.647118Z",
     "start_time": "2018-01-25T02:12:29.624067Z"
    }
   },
   "outputs": [],
   "source": [
    "callbacks = [\n",
    "    keras.callbacks.ReduceLROnPlateau(factor=0.1, patience=1, verbose=1),\n",
    "    keras.callbacks.EarlyStopping(patience=4)\n",
    "]"
   ]
  },
  {
   "cell_type": "code",
   "execution_count": 11,
   "metadata": {
    "ExecuteTime": {
     "end_time": "2018-01-25T02:12:29.059643Z",
     "start_time": "2018-01-25T01:58:41.473504Z"
    }
   },
   "outputs": [
    {
     "name": "stdout",
     "output_type": "stream",
     "text": [
      "_________________________________________________________________\n",
      "Layer (type)                 Output Shape              Param #   \n",
      "=================================================================\n",
      "reshape_5 (Reshape)          (None, 28, 28, 1)         0         \n",
      "_________________________________________________________________\n",
      "conv2d_13 (Conv2D)           (None, 28, 28, 10)        260       \n",
      "_________________________________________________________________\n",
      "max_pooling2d_13 (MaxPooling (None, 14, 14, 10)        0         \n",
      "_________________________________________________________________\n",
      "batch_normalization_18 (Batc (None, 14, 14, 10)        40        \n",
      "_________________________________________________________________\n",
      "conv2d_14 (Conv2D)           (None, 14, 14, 15)        2415      \n",
      "_________________________________________________________________\n",
      "max_pooling2d_14 (MaxPooling (None, 7, 7, 15)          0         \n",
      "_________________________________________________________________\n",
      "batch_normalization_19 (Batc (None, 7, 7, 15)          60        \n",
      "_________________________________________________________________\n",
      "conv2d_15 (Conv2D)           (None, 7, 7, 20)          2720      \n",
      "_________________________________________________________________\n",
      "max_pooling2d_15 (MaxPooling (None, 4, 4, 20)          0         \n",
      "_________________________________________________________________\n",
      "batch_normalization_20 (Batc (None, 4, 4, 20)          80        \n",
      "_________________________________________________________________\n",
      "conv2d_16 (Conv2D)           (None, 4, 4, 25)          4525      \n",
      "_________________________________________________________________\n",
      "max_pooling2d_16 (MaxPooling (None, 2, 2, 25)          0         \n",
      "_________________________________________________________________\n",
      "batch_normalization_21 (Batc (None, 2, 2, 25)          100       \n",
      "_________________________________________________________________\n",
      "flatten_6 (Flatten)          (None, 100)               0         \n",
      "_________________________________________________________________\n",
      "dense_11 (Dense)             (None, 20)                2020      \n",
      "_________________________________________________________________\n",
      "batch_normalization_22 (Batc (None, 20)                80        \n",
      "_________________________________________________________________\n",
      "dense_12 (Dense)             (None, 10)                210       \n",
      "=================================================================\n",
      "Total params: 12,510\n",
      "Trainable params: 12,330\n",
      "Non-trainable params: 180\n",
      "_________________________________________________________________\n",
      "Train on 48000 samples, validate on 12000 samples\n",
      "Epoch 1/100\n",
      "48000/48000 [==============================] - 65s 1ms/step - loss: 0.1787 - sparse_categorical_accuracy: 0.9493 - val_loss: 0.0929 - val_sparse_categorical_accuracy: 0.9712\n",
      "Epoch 2/100\n",
      "48000/48000 [==============================] - 60s 1ms/step - loss: 0.0614 - sparse_categorical_accuracy: 0.9806 - val_loss: 0.0437 - val_sparse_categorical_accuracy: 0.9854\n",
      "Epoch 3/100\n",
      "48000/48000 [==============================] - 63s 1ms/step - loss: 0.0495 - sparse_categorical_accuracy: 0.9839 - val_loss: 0.0489 - val_sparse_categorical_accuracy: 0.9852\n",
      "Epoch 4/100\n",
      "47936/48000 [============================>.] - ETA: 0s - loss: 0.0413 - sparse_categorical_accuracy: 0.9865\n",
      "Epoch 00004: reducing learning rate to 0.00020000000949949026.\n",
      "48000/48000 [==============================] - 61s 1ms/step - loss: 0.0412 - sparse_categorical_accuracy: 0.9865 - val_loss: 0.0544 - val_sparse_categorical_accuracy: 0.9836\n",
      "Epoch 5/100\n",
      "48000/48000 [==============================] - 62s 1ms/step - loss: 0.0237 - sparse_categorical_accuracy: 0.9927 - val_loss: 0.0239 - val_sparse_categorical_accuracy: 0.9929\n",
      "Epoch 6/100\n",
      "48000/48000 [==============================] - 60s 1ms/step - loss: 0.0182 - sparse_categorical_accuracy: 0.9945 - val_loss: 0.0231 - val_sparse_categorical_accuracy: 0.9928\n",
      "Epoch 7/100\n",
      "48000/48000 [==============================] - 62s 1ms/step - loss: 0.0154 - sparse_categorical_accuracy: 0.9952 - val_loss: 0.0234 - val_sparse_categorical_accuracy: 0.9929\n",
      "Epoch 8/100\n",
      "48000/48000 [==============================] - 61s 1ms/step - loss: 0.0137 - sparse_categorical_accuracy: 0.9958 - val_loss: 0.0227 - val_sparse_categorical_accuracy: 0.9934\n",
      "Epoch 9/100\n",
      "48000/48000 [==============================] - 63s 1ms/step - loss: 0.0131 - sparse_categorical_accuracy: 0.9960 - val_loss: 0.0236 - val_sparse_categorical_accuracy: 0.9932\n",
      "Epoch 10/100\n",
      "47936/48000 [============================>.] - ETA: 0s - loss: 0.0117 - sparse_categorical_accuracy: 0.9964\n",
      "Epoch 00010: reducing learning rate to 2.0000000949949027e-05.\n",
      "48000/48000 [==============================] - 61s 1ms/step - loss: 0.0117 - sparse_categorical_accuracy: 0.9964 - val_loss: 0.0239 - val_sparse_categorical_accuracy: 0.9931\n",
      "Epoch 11/100\n",
      "47968/48000 [============================>.] - ETA: 0s - loss: 0.0095 - sparse_categorical_accuracy: 0.9973\n",
      "Epoch 00011: reducing learning rate to 2.0000001313746906e-06.\n",
      "48000/48000 [==============================] - 63s 1ms/step - loss: 0.0095 - sparse_categorical_accuracy: 0.9973 - val_loss: 0.0229 - val_sparse_categorical_accuracy: 0.9932\n",
      "Epoch 12/100\n",
      "47936/48000 [============================>.] - ETA: 0s - loss: 0.0089 - sparse_categorical_accuracy: 0.9975\n",
      "Epoch 00012: reducing learning rate to 2.000000222324161e-07.\n",
      "48000/48000 [==============================] - 62s 1ms/step - loss: 0.0089 - sparse_categorical_accuracy: 0.9975 - val_loss: 0.0229 - val_sparse_categorical_accuracy: 0.9931\n",
      "10000/10000 [==============================] - 4s 420us/step\n",
      "validation accuracy: 2.06%, loss 0.9934\n"
     ]
    }
   ],
   "source": [
    "fc_model = keras.Sequential([\n",
    "    keras.layers.Reshape((28,28,1), input_shape=x_train.shape[1:]),\n",
    "    \n",
    "    keras.layers.Conv2D(10,5,activation=\"elu\", padding=\"same\"),\n",
    "    keras.layers.MaxPool2D(3,2, padding=\"same\"),\n",
    "    keras.layers.BatchNormalization(),\n",
    "    \n",
    "    keras.layers.Conv2D(15,4,activation=\"elu\", padding=\"same\"),\n",
    "    keras.layers.MaxPool2D(3,2, padding=\"same\"),\n",
    "    keras.layers.BatchNormalization(),\n",
    "    \n",
    "    keras.layers.Conv2D(20,3,activation=\"elu\", padding=\"same\"),\n",
    "    keras.layers.MaxPool2D(3,2, padding=\"same\"),\n",
    "    keras.layers.BatchNormalization(),\n",
    "    \n",
    "    keras.layers.Conv2D(25,3,activation=\"elu\", padding=\"same\"),\n",
    "    keras.layers.MaxPool2D(3,2, padding=\"same\"),\n",
    "    keras.layers.BatchNormalization(),\n",
    "    \n",
    "    keras.layers.Flatten(),\n",
    "    keras.layers.Dense(20, activation=\"elu\"),\n",
    "    keras.layers.BatchNormalization(),\n",
    "    keras.layers.Dense(np.max(y_train) + 1, activation=\"softmax\")\n",
    "])\n",
    "\n",
    "fc_model.summary()\n",
    "\n",
    "fc_model.compile(\n",
    "    \"nadam\",\n",
    "    \"sparse_categorical_crossentropy\",\n",
    "    metrics=[\"sparse_categorical_accuracy\"])\n",
    "\n",
    "fc_model.fit(\n",
    "    x=x_train, y=y_train, validation_split=.2, epochs=100, callbacks=callbacks)\n",
    "\n",
    "loss, acc = fc_model.evaluate(x_test, y_test)\n",
    "print(f\"validation accuracy: {loss:.2%}, loss {acc:.4f}\")"
   ]
  }
 ],
 "metadata": {
  "kernelspec": {
   "display_name": "Python 3",
   "language": "python",
   "name": "python3"
  },
  "language_info": {
   "codemirror_mode": {
    "name": "ipython",
    "version": 3
   },
   "file_extension": ".py",
   "mimetype": "text/x-python",
   "name": "python",
   "nbconvert_exporter": "python",
   "pygments_lexer": "ipython3",
   "version": "3.6.3"
  },
  "toc": {
   "nav_menu": {},
   "number_sections": true,
   "sideBar": true,
   "skip_h1_title": false,
   "toc_cell": false,
   "toc_position": {},
   "toc_section_display": "block",
   "toc_window_display": false
  },
  "varInspector": {
   "cols": {
    "lenName": 16,
    "lenType": 16,
    "lenVar": 40
   },
   "kernels_config": {
    "python": {
     "delete_cmd_postfix": "",
     "delete_cmd_prefix": "del ",
     "library": "var_list.py",
     "varRefreshCmd": "print(var_dic_list())"
    },
    "r": {
     "delete_cmd_postfix": ") ",
     "delete_cmd_prefix": "rm(",
     "library": "var_list.r",
     "varRefreshCmd": "cat(var_dic_list()) "
    }
   },
   "types_to_exclude": [
    "module",
    "function",
    "builtin_function_or_method",
    "instance",
    "_Feature"
   ],
   "window_display": false
  }
 },
 "nbformat": 4,
 "nbformat_minor": 1
}
